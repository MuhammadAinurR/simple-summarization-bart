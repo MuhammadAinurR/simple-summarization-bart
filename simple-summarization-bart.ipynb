{
 "cells": [
  {
   "cell_type": "code",
   "execution_count": 26,
   "metadata": {},
   "outputs": [],
   "source": [
    "from transformers import BartTokenizer, BartForConditionalGeneration\n",
    "\n",
    "# Load the pre-trained BART model and tokenizer\n",
    "model_name = 'facebook/bart-large-cnn' # Pre-trained BART model for text summarization\n",
    "model = BartForConditionalGeneration.from_pretrained(model_name)\n",
    "tokenizer = BartTokenizer.from_pretrained(model_name)\n",
    "\n",
    "# Text to summarize\n",
    "text = \"\"\"\n",
    "There once lived a king and queen who ruled over a distant land. The queen was lovely and beautiful. Everybody in the kingdom adored the Queen. The only sadness the queen had was that she did not bear any child. \n",
    "Once when she was busy with her needlework, she gazed at the sight of the falling snow out of her ebony window. A bird flew straight and alarmed the queen, to this she pricked her own finger with the needle. As she looked at the blood dripping on the white snow she wished for a beautiful fair daughter. She exclaimed a wish to have a daughter as white as the snow, lips as red as the blood, and her hair as black as ebony. \n",
    "After this, the queen had her wish granted and she gave birth to Snow White. But luck was not in favour of the Queen. As soon as she gave birth to Snow White she died. \n",
    "The King then married a new Queen. The new Queen was beautiful but with an evil heart. She was engaged with black magic and she also owned a magic mirror. She would ask the mirror every day “Mirror Mirror! Who is the fairest?” The mirror would reply “You, my Queen!’ This satisfied the Queen as she knew the magic mirror would speak nothing but the truth. \n",
    "One morning she again asked the mirror “Mirror Mirror! Who is the fairest?”  This time the mirror replied, “You are fair my Queen, but Snow White is fairer than you.” To this, the evil Queen was infuriated with rage. Out of acute jealousy, she devised a plan to kill Snow White so that she can be the fairest of all. She called her huntsman and ordered them to kill Snow White in the forest and bring her heart as proof. \n",
    "The huntsmen took Snow White to the forest, but the kind huntsmen could not kill the innocent girl and thus brought the queen a heart of a wild boar replicating that of the Snow White’s. Snow White was all alone in the forest. She ran as far as she could get. She stopped near a little house. She entered the house and found seven tiny beds in a row with soft quilts. As she was very hungry she ate a few vegetables there and drank milk from seven cups and was fast asleep. \n",
    "Next, she was awakened at the sight of seven dwarfs gazing intently at her. The dwarfs welcomed her. She introduced them as Snow White and related them to her sad story. The dwarfs sympathised with her and asked her to stay with them. \n",
    "So now Snow White’s life began with the seven dwarfs. She cooked for them while they went to mine gold in the mountains. \n",
    "On the other side of the world, the cruel Queen, believing the wild boar’s heart to be that of Snow White was leading her life happily in the castle. Again she asked her magic mirror who was the fairest of all? This time too, the mirror replied that Snow White is the fairest who is now living with the seven dwarfs. \n",
    "To this, the queen again flew into a rage and devised a more cunning plan. She dressed up as a beggar woman and went up to Snow White and forced her to eat one of her apples that she was pretending to sell. After much insisting Snow White finally gave a bite at the red apple as soon as she did so, she fell to the ground. \n",
    "When the dwarfs returned they saw Snow White lying dead on the floor. They were very sad. They cried utterly and carried Snow White to the graveyard. On the way, they encountered a handsome Prince. The Prince was mesmerised at the sight of Snow White. He stopped and knelt to kiss Snow White. This was ‘Love’s first kiss’ which broke the curse of the evil queen. \n",
    "Snow White then jumped up and sat. All were much relieved as Snow White came back to her life. After this, she lived with the handsome prince happily ever after. Also, the evil queen was then banished from the kingdom for her ill-deed and she never came back.\n",
    "This was the story of Snow White. From this story, we understand the fate of the one who devises an ill-plan out of jealousy. This story had a well-woven plot that started and ended with a happy ending.\n",
    "\"\"\""
   ]
  },
  {
   "cell_type": "code",
   "execution_count": 18,
   "metadata": {},
   "outputs": [
    {
     "name": "stdout",
     "output_type": "stream",
     "text": [
      "Summary: ['The story of Snow White and the Seven Dwarfs is about a queen who wanted a fair daughter. Out of acute jealousy, she devised a plan to kill Snow White so that she can be the fairest of all. The huntsmen took Snow White to the forest, but the kind huntsmen could not kill the innocent girl and thus brought the queen a heart of a wild boar replicating that of the Snow White’s.']\n"
     ]
    }
   ],
   "source": [
    "# Tokenize the input text\n",
    "inputs = tokenizer([text], max_length=1024, return_tensors='pt')\n",
    "\n",
    "# Generate a summary\n",
    "summary_ids = model.generate(inputs['input_ids'], num_beams=4, length_penalty=2.0, max_length=100, min_length=30, early_stopping=True)\n",
    "\n",
    "# Decode the summary\n",
    "summary = [tokenizer.decode(g, skip_special_tokens=True, clean_up_tokenization_spaces=False) for g in summary_ids]\n",
    "\n",
    "print(\"Summary:\", summary)"
   ]
  },
  {
   "cell_type": "code",
   "execution_count": 25,
   "metadata": {},
   "outputs": [
    {
     "name": "stdout",
     "output_type": "stream",
     "text": [
      "\n",
      "There once lived a king and queen who ruled over a distant land. The queen was lovely and beautiful. Everybody in the kingdom adored the Queen. The only sadness the queen had was that she did not bear any child. \n",
      "Once when she was busy with her needlework, she gazed at the sight of the falling snow out of her ebony window. A bird flew straight and alarmed the queen, to this she pricked her own finger with the needle. As she looked at the blood dripping on the white snow she wished for a beautiful fair daughter. She exclaimed a wish to have a daughter as white as the snow, lips as red as the blood, and her hair as black as ebony. \n",
      "After this, the queen had her wish granted and she gave birth to Snow White. But luck was not in favour of the Queen. As soon as she gave birth to Snow White she died. \n",
      "The King then married a new Queen. The new Queen was beautiful but with an evil heart. She was engaged with black magic and she also owned a magic mirror. She would ask the mirror every day “Mirror Mirror! Who is the fairest?” The mirror would reply “You, my Queen!’ This satisfied the Queen as she knew the magic mirror would speak nothing but the truth. \n",
      "One morning she again asked the mirror “Mirror Mirror! Who is the fairest?”  This time the mirror replied, “You are fair my Queen, but Snow White is fairer than you.” To this, the evil Queen was infuriated with rage. Out of acute jealousy, she devised a plan to kill Snow White so that she can be the fairest of all. She called her huntsman and ordered them to kill Snow White in the forest and bring her heart as proof. \n",
      "The huntsmen took Snow White to the forest, but the kind huntsmen could not kill the innocent girl and thus brought the queen a heart of a wild boar replicating that of the Snow White’s. Snow White was all alone in the forest. She ran as far as she could get. She stopped near a little house. She entered the house and found seven tiny beds in a row with soft quilts. As she was very hungry she ate a few vegetables there and drank milk from seven cups and was fast asleep. \n",
      "Next, she was awakened at the sight of seven dwarfs gazing intently at her. The dwarfs welcomed her. She introduced them as Snow White and related them to her sad story. The dwarfs sympathised with her and asked her to stay with them. \n",
      "So now Snow White’s life began with the seven dwarfs. She cooked for them while they went to mine gold in the mountains. \n",
      "On the other side of the world, the cruel Queen, believing the wild boar’s heart to be that of Snow White was leading her life happily in the castle. Again she asked her magic mirror who was the fairest of all? This time too, the mirror replied that Snow White is the fairest who is now living with the seven dwarfs. \n",
      "To this, the queen again flew into a rage and devised a more cunning plan. She dressed up as a beggar woman and went up to Snow White and forced her to eat one of her apples that she was pretending to sell. After much insisting Snow White finally gave a bite at the red apple as soon as she did so, she fell to the ground. \n",
      "When the dwarfs returned they saw Snow White lying dead on the floor. They were very sad. They cried utterly and carried Snow White to the graveyard. On the way, they encountered a handsome Prince. The Prince was mesmerised at the sight of Snow White. He stopped and knelt to kiss Snow White. This was ‘Love’s first kiss’ which broke the curse of the evil queen. \n",
      "Snow White then jumped up and sat. All were much relieved as Snow White came back to her life. After this, she lived with the handsome prince happily ever after. Also, the evil queen was then banished from the kingdom for her ill-deed and she never came back.\n",
      "This was the story of Snow White. From this story, we understand the fate of the one who devises an ill-plan out of jealousy. This story had a well-woven plot that started and ended with a happy ending.\n",
      "\n",
      "Word count: 744\n"
     ]
    }
   ],
   "source": [
    "print(text)\n",
    "# Split the text into words using whitespace as the separator and count them\n",
    "word_count = len(text.split())\n",
    "\n",
    "# Print the word count\n",
    "print(\"Word count:\", word_count)"
   ]
  },
  {
   "cell_type": "code",
   "execution_count": 24,
   "metadata": {},
   "outputs": [
    {
     "name": "stdout",
     "output_type": "stream",
     "text": [
      "The story of Snow White and the Seven Dwarfs is about a queen who wanted a fair daughter. Out of acute jealousy, she devised a plan to kill Snow White so that she can be the fairest of all. The huntsmen took Snow White to the forest, but the kind huntsmen could not kill the innocent girl and thus brought the queen a heart of a wild boar replicating that of the Snow White’s.\n",
      "Word count: 74\n"
     ]
    }
   ],
   "source": [
    "print(summary[0])\n",
    "# Split the text into words using whitespace as the separator and count them\n",
    "word_count = len(summary[0].split())\n",
    "\n",
    "# Print the word count\n",
    "print(\"Word count:\", word_count)"
   ]
  }
 ],
 "metadata": {
  "kernelspec": {
   "display_name": "Python 3",
   "language": "python",
   "name": "python3"
  },
  "language_info": {
   "codemirror_mode": {
    "name": "ipython",
    "version": 3
   },
   "file_extension": ".py",
   "mimetype": "text/x-python",
   "name": "python",
   "nbconvert_exporter": "python",
   "pygments_lexer": "ipython3",
   "version": "3.11.3"
  }
 },
 "nbformat": 4,
 "nbformat_minor": 2
}
